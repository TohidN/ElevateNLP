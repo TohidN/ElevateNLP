{
 "cells": [
  {
   "cell_type": "markdown",
   "id": "02bb9165",
   "metadata": {},
   "source": [
    "# Import Squad2 dataset\n",
    "\n",
    "dataset location: `\\dataset\\SQuAD\\train-v2.0.json`\n",
    "\n",
    "* [Squad 2 Dataset](https://rajpurkar.github.io/SQuAD-explorer/explore/v2.0/dev/)\n",
    "* [Download Link](https://rajpurkar.github.io/SQuAD-explorer/dataset/train-v2.0.json)"
   ]
  },
  {
   "cell_type": "code",
   "execution_count": null,
   "id": "1f4eed7b",
   "metadata": {},
   "outputs": [],
   "source": [
    "# Imports\n",
    "import os, json\n",
    "from tqdm.auto import tqdm\n",
    "from django.conf import settings\n",
    "from datacore.models import (\n",
    "    Document,\n",
    "    Phrase,\n",
    "    Template,\n",
    "    Language,\n",
    "    Corpora,\n",
    "    PhraseCollection,\n",
    "    DataSource,\n",
    "    Reference,\n",
    ")"
   ]
  },
  {
   "cell_type": "code",
   "execution_count": 9,
   "id": "a4cbd095",
   "metadata": {},
   "outputs": [
    {
     "data": {
      "application/vnd.jupyter.widget-view+json": {
       "model_id": "fa285c14debf48c58eff2188c6e6abeb",
       "version_major": 2,
       "version_minor": 0
      },
      "text/plain": [
       "  0%|          | 0.00/9.33k [00:00<?, ?KB/s]"
      ]
     },
     "metadata": {},
     "output_type": "display_data"
    }
   ],
   "source": [
    "# Download dataset if it doens't exist\n",
    "url = \"https://rajpurkar.github.io/SQuAD-explorer/dataset/train-v2.0.json\"\n",
    "dir_path = os.path.join(settings.BASE_DIR, \"../dataset/SQuAD/\")\n",
    "path = os.path.join(dir_path, \"train-v2.0.json\")\n",
    "if not os.path.exists(path):\n",
    "    from datacore.functions.utils import download, get_or_create_dir\n",
    "\n",
    "    get_or_create_dir(dir_path)\n",
    "    download(url, path)"
   ]
  },
  {
   "cell_type": "code",
   "execution_count": null,
   "id": "5dfdd30f",
   "metadata": {},
   "outputs": [],
   "source": [
    "# create language, data_source and it's Reference links\n",
    "Reference, created = Reference.objects.get_or_create(\n",
    "    title=\"Squad 2 - official homepage\",\n",
    "    url=\"https://rajpurkar.github.io/SQuAD-explorer/explore/v2.0/dev/\",\n",
    "    description=\"Squad's homepage\",\n",
    ")\n",
    "data_source, created = DataSource.objects.get_or_create(title=\"SQuAD\", version=\"2\")\n",
    "data_source.references.add(Reference)\n",
    "english, created = Language.objects.get_or_create(\n",
    "    en_name=\"English\", native_name=\"English\", alpha2=\"en\"\n",
    ")\n",
    "\n",
    "# OPTIONAL: Delete old imports\n",
    "Document.objects.filter(data_sources__id=data_source.id).delete()\n",
    "\n",
    "# Create corpus\n",
    "squad_corpus, created = Corpora.objects.get_or_create(title=\"SQuAD 2\")\n",
    "squad_corpus.data_sources.add(data_source)"
   ]
  },
  {
   "cell_type": "code",
   "execution_count": null,
   "id": "5f7003c2",
   "metadata": {},
   "outputs": [],
   "source": [
    "# Loading Files.\n",
    "f = open(path, \"r\")\n",
    "content = f.read()\n",
    "data = json.loads(content)"
   ]
  },
  {
   "cell_type": "code",
   "execution_count": null,
   "id": "534fd9e7",
   "metadata": {},
   "outputs": [],
   "source": [
    "# Importing data.\n",
    "for doc in tqdm(data[\"data\"], desc=\"Documents\"):\n",
    "    doc_title = doc[\"title\"].replace(\"_\", \" \")\n",
    "    document = Document.objects.create(title=doc_title, language=english)\n",
    "    document.data_sources.add(data_source)\n",
    "    questions = PhraseCollection.objects.create(\n",
    "        title=f\"Questions for '{doc_title}' document\"\n",
    "    )\n",
    "    questions.data_sources.add(data_source)\n",
    "    questions.save()\n",
    "    raw_text = \"\"\n",
    "    for par in tqdm(doc[\"paragraphs\"], desc=\"Paragraphs\", leave=False):\n",
    "        raw_text = \"\\n\".join([raw_text, par[\"context\"]])\n",
    "        # import questions\n",
    "        for qas in par[\"qas\"]:\n",
    "            question, created = Phrase.objects.get_or_create(\n",
    "                text=qas[\"question\"], language=english\n",
    "            )\n",
    "            questions.phrases.add(question)\n",
    "    document.content = raw_text\n",
    "    document.phrase_collections.add(questions)\n",
    "    document.save()\n",
    "    squad_corpus.documents.add(document)"
   ]
  }
 ],
 "metadata": {
  "kernelspec": {
   "display_name": "Django Shell-Plus",
   "language": "python",
   "name": "django_extensions"
  },
  "language_info": {
   "codemirror_mode": {
    "name": "ipython",
    "version": 3
   },
   "file_extension": ".py",
   "mimetype": "text/x-python",
   "name": "python",
   "nbconvert_exporter": "python",
   "pygments_lexer": "ipython3",
   "version": "3.11.0"
  }
 },
 "nbformat": 4,
 "nbformat_minor": 5
}
