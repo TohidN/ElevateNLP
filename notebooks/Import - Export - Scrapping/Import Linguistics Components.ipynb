{
 "cells": [
  {
   "cell_type": "markdown",
   "id": "88f37cbf",
   "metadata": {},
   "source": [
    "# Import Linguistics Components\n",
    "\n",
    "dataset location: `dataset/linguistics/dump_json_components.json`\n",
    "* this dataset is gathered from multiple sources. for more information read dataset's readme file.\n",
    "* dataset file is the result of direct inport from dataset and can be updated by running `python .\\manage.py export-linguistics`"
   ]
  },
  {
   "cell_type": "code",
   "execution_count": 1,
   "id": "15ad19c3",
   "metadata": {},
   "outputs": [],
   "source": [
    "import os, json\n",
    "from django.conf import settings\n",
    "from datacore.models import Component, Reference"
   ]
  },
  {
   "cell_type": "code",
   "execution_count": 2,
   "id": "bb10c513",
   "metadata": {},
   "outputs": [
    {
     "data": {
      "text/plain": [
       "(0, {})"
      ]
     },
     "execution_count": 2,
     "metadata": {},
     "output_type": "execute_result"
    }
   ],
   "source": [
    "# OPTIONAL: clear components from data model\n",
    "Component.objects.all().delete()"
   ]
  },
  {
   "cell_type": "code",
   "execution_count": 3,
   "id": "f5c9e61e",
   "metadata": {},
   "outputs": [],
   "source": [
    "# Reading file and loading JSON content\n",
    "path = os.path.join(\n",
    "    settings.BASE_DIR, \"../dataset/linguistics/dump_json_components_new.json\"\n",
    ")\n",
    "content = open(path, \"r\").read()\n",
    "data = json.loads(content)"
   ]
  },
  {
   "cell_type": "code",
   "execution_count": 4,
   "id": "7c446617",
   "metadata": {},
   "outputs": [],
   "source": [
    "# Import Linguistics Data\n",
    "def import_data(data, parent):\n",
    "    for key, item in data.items():\n",
    "        com = Component(\n",
    "            title=item[\"title\"],\n",
    "            description=item[\"description\"],\n",
    "            parent=parent,\n",
    "            code=item[\"code\"],\n",
    "            codes=item[\"codes\"],\n",
    "            component_type=item[\"component_type\"],\n",
    "            data=item[\"data\"],\n",
    "        )\n",
    "        com.save()\n",
    "        if len(item[\"references\"]) > 0:\n",
    "            for key, reference in item[\"references\"].items():\n",
    "                ref, created = Reference.objects.get_or_create(\n",
    "                    title=reference[\"title\"],\n",
    "                    url=reference[\"url\"],\n",
    "                    description=reference[\"description\"],\n",
    "                )\n",
    "                com.references.add(ref)\n",
    "        if len(item[\"children\"]) > 0:\n",
    "            import_data(data=item[\"children\"], parent=com)\n",
    "\n",
    "\n",
    "import_data(data=data, parent=None)"
   ]
  },
  {
   "cell_type": "code",
   "execution_count": null,
   "id": "b66f8616",
   "metadata": {},
   "outputs": [],
   "source": []
  }
 ],
 "metadata": {
  "kernelspec": {
   "display_name": "Django Shell-Plus",
   "language": "python",
   "name": "django_extensions"
  },
  "language_info": {
   "codemirror_mode": {
    "name": "ipython",
    "version": 3
   },
   "file_extension": ".py",
   "mimetype": "text/x-python",
   "name": "python",
   "nbconvert_exporter": "python",
   "pygments_lexer": "ipython3",
   "version": "3.11.0"
  }
 },
 "nbformat": 4,
 "nbformat_minor": 5
}
