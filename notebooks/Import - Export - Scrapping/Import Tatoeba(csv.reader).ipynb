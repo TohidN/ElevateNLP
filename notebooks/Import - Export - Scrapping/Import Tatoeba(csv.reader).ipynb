{
 "cells": [
  {
   "cell_type": "markdown",
   "id": "52ce1f1e",
   "metadata": {},
   "source": [
    "# Tatoeba sentence dataset\n",
    "\n",
    "dataset location: `dataset/sayings, proverbs, idioms/English_phrases_and_sayings.csv`\n",
    "* [Download](https://downloads.tatoeba.org/exports/sentences.tar.bz2)\n",
    "* [Source](https://tatoeba.org/en/downloads)"
   ]
  },
  {
   "cell_type": "code",
   "execution_count": null,
   "id": "dfc0f166",
   "metadata": {},
   "outputs": [],
   "source": [
    "# Prepare for import\n",
    "import os, csv\n",
    "import stanza\n",
    "from django.conf import settings\n",
    "from datacore.models import Document, Phrase, Template, PhraseCollection\n",
    "from datacore.functions.stanza import get_stanza\n",
    "\n",
    "# set up NLP pipeline\n",
    "nlp = get_stanza(lang=\"en\", processors='tokenize')\n",
    "\n",
    "Reference1, created  = Reference.objects.get_or_create(title=\"Tatoeba - official homepage\", url=\"https://tatoeba.org/en\", description=\"Tatoeba is a collection of sentences and translations.It's collaborative, open, free and even addictive.\")\n",
    "Reference2, created  = Reference.objects.get_or_create(title=\"Tatoeba - Dataset\", url=\"https://tatoeba.org/en/downloads\", description=\"Tatoeba dataset.\")\n",
    "data_source, created = DataSource.objects.get_or_create(title=\"Tatoeba\")\n",
    "data_source.references.add(Reference1, Reference2)\n",
    "\n",
    "tatoeba, created = PhraseCollection.objects.get_or_create(title=\"Tatoeba Phrases\")\n",
    "tatoeba.data_sources.add(data_source)"
   ]
  },
  {
   "cell_type": "code",
   "execution_count": null,
   "id": "0f7bf907",
   "metadata": {},
   "outputs": [],
   "source": [
    "# Download dataset if it doens't exist\n",
    "url = 'https://downloads.tatoeba.org/exports/sentences.tar.bz2'\n",
    "dir_path = os.path.join(settings.BASE_DIR, '../dataset/tatoeba/')\n",
    "path = os.path.join(dir_path, 'sentences.csv')\n",
    "if not os.path.exists(path):\n",
    "    from datacore.functions.utils import download, get_or_create_dir\n",
    "    get_or_create_dir(dir_path)\n",
    "    download(url, path)"
   ]
  },
  {
   "cell_type": "code",
   "execution_count": null,
   "id": "573467fc",
   "metadata": {},
   "outputs": [],
   "source": [
    "# Read file and import\n",
    "file = open(path, \"r\", encoding='utf-8')\n",
    "csv_reader = csv.reader(file, delimiter='\\t')\n",
    "rows_counted = 0\n",
    "rows_impoerted = 0\n",
    "for row in csv_reader:\n",
    "    rows_counted = rows_counted + 1\n",
    "    try:\n",
    "        # Import phrases in all languages or in a specific language using alpha3 code in row[1]\n",
    "        if row[1] == 'eng':\n",
    "            sentence = row[2]\n",
    "            doc = nlp(sentence)\n",
    "            for sentence in doc.sentences:\n",
    "                phrase, created = Phrase.objects.get_or_create(text=sentence.text)\n",
    "                tatoeba.phrases.add(phrase)\n",
    "            rows_impoerted = rows_impoerted + 1\n",
    "    except Exception as e:\n",
    "        print(f\"Error in importing row '{rows_counted}' with text: '{row[2]}'\\nError: {e}\\n\")\n",
    "print(f\"\\nImported {rows_impoerted} from {rows_counted} rows\")"
   ]
  },
  {
   "cell_type": "code",
   "execution_count": null,
   "id": "75ad56d5",
   "metadata": {},
   "outputs": [],
   "source": []
  }
 ],
 "metadata": {
  "kernelspec": {
   "display_name": "Django Shell-Plus",
   "language": "python",
   "name": "django_extensions"
  },
  "language_info": {
   "codemirror_mode": {
    "name": "ipython",
    "version": 3
   },
   "file_extension": ".py",
   "mimetype": "text/x-python",
   "name": "python",
   "nbconvert_exporter": "python",
   "pygments_lexer": "ipython3",
   "version": "3.11.0"
  }
 },
 "nbformat": 4,
 "nbformat_minor": 5
}
