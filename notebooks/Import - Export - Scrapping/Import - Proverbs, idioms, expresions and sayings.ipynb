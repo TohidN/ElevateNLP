{
 "cells": [
  {
   "cell_type": "markdown",
   "id": "d25b02a6",
   "metadata": {},
   "source": [
    "# Import proverbs, idioms, expresions and sayings\n",
    "\n",
    "Dataset location:\n",
    "> `dataset/sayings, proverbs, idioms/English_phrases_and_sayings.csv`\n",
    "\n",
    "If dataset file doesn't exist, run the scrapper. Dataset is built by scrapping web in file:\n",
    "\n",
    "> `/notebooks/Import - Export - Scrapping/Scrapping - Proverbs, idioms, expresions and sayings.ipynb`. "
   ]
  },
  {
   "cell_type": "code",
   "execution_count": null,
   "id": "9191a0ac",
   "metadata": {},
   "outputs": [],
   "source": [
    "# Imports\n",
    "import os\n",
    "import pandas as pd\n",
    "from tqdm.auto import tqdm\n",
    "from django.conf import settings\n",
    "from datacore.models import Phrase, Component, Language, DataSource, Reference"
   ]
  },
  {
   "cell_type": "code",
   "execution_count": 50,
   "id": "4ae14b94",
   "metadata": {},
   "outputs": [],
   "source": [
    "# Preparing and Reading Dataset\n",
    "title = \"Proverbs, idioms, expresions and sayings\"\n",
    "proveb = \"PROVERB\" # code for linguistic component, other options which can be used are Idiom,\n",
    "english, created = Language.objects.get_or_create(en_name='English', native_name='English', alpha2='en')\n",
    "data_source, created = DataSource.objects.get_or_create(title=title,version=\"13\")\n",
    "Reference1, created  = Reference.objects.get_or_create(title=title+\" - scrapping source\", url=\"https://www.kaggle.com/code/bryanb/scraping-sayings-and-proverbs#PART-I:-Scraping-English-sayings\", description=\"Source Code for scrapping data from web\")\n",
    "Reference2, created  = Reference.objects.get_or_create(title=title+\" - scrapping data\", url=\"https://www.kaggle.com/code/bryanb/scraping-sayings-and-proverbs#PART-I:-Scraping-English-sayings\", description=\"Data Source for scrapping data from web\")\n",
    "data_source.references.add(Reference1, Reference2)\n",
    "collection, created = PhraseCollection.objects.get_or_create(title=title)\n",
    "collection.data_sources.add(data_source)\n",
    "\n",
    "sayings = os.path.join(settings.BASE_DIR, '../dataset/sayings, proverbs, idioms/English_phrases_and_sayings.csv')"
   ]
  },
  {
   "cell_type": "code",
   "execution_count": null,
   "id": "0cb0fa57",
   "metadata": {},
   "outputs": [],
   "source": [
    "# Reading File\n",
    "sayings = os.path.join(settings.BASE_DIR, '../dataset/sayings, proverbs, idioms/English_phrases_and_sayings.csv')\n",
    "df = pd.read_csv(sayings)"
   ]
  },
  {
   "cell_type": "code",
   "execution_count": null,
   "id": "23f456b5",
   "metadata": {},
   "outputs": [],
   "source": [
    "# Importing Dataset\n",
    "for row in tqdm(df.iterrows(), total=len(df)):\n",
    "    try:\n",
    "        phrase, create = Phrase.objects.get_or_create(text=\" \".join(row[1][\"text\"].split()), language=english)\n",
    "        phrase.data[\"description\"] = \" \".join(row[1][\"explanation\"].split())\n",
    "        phrase.save()\n",
    "    except:\n",
    "        print(\" \".join(row[1][\"text\"].split()))\n",
    "    collection.phrases.add(phrase)"
   ]
  }
 ],
 "metadata": {
  "kernelspec": {
   "display_name": "Django Shell-Plus",
   "language": "python",
   "name": "django_extensions"
  },
  "language_info": {
   "codemirror_mode": {
    "name": "ipython",
    "version": 3
   },
   "file_extension": ".py",
   "mimetype": "text/x-python",
   "name": "python",
   "nbconvert_exporter": "python",
   "pygments_lexer": "ipython3",
   "version": "3.11.0"
  }
 },
 "nbformat": 4,
 "nbformat_minor": 5
}
