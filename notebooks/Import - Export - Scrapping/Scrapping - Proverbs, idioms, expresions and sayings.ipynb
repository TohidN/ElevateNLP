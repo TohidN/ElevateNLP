{
 "cells": [
  {
   "cell_type": "markdown",
   "id": "ffbaf076",
   "metadata": {},
   "source": [
    "# Proverbs, idioms, expresions and sayings\n",
    "\n",
    "dataset location: `dataset/sayings, proverbs, idioms/English_phrases_and_sayings.csv`\n",
    "\n",
    "Scrapping from [phrases.org.uk](https://www.phrases.org.uk/meanings/phrases-and-sayings-list.html)."
   ]
  },
  {
   "cell_type": "code",
   "execution_count": 1,
   "id": "efdaa899",
   "metadata": {},
   "outputs": [],
   "source": [
    "# Import and prepare\n",
    "import os\n",
    "\n",
    "import pandas as pd\n",
    "import numpy as np\n",
    "import requests as req\n",
    "from bs4 import BeautifulSoup\n",
    "from tqdm.notebook import tqdm\n",
    "\n",
    "from django.conf import settings"
   ]
  },
  {
   "cell_type": "code",
   "execution_count": 2,
   "id": "da3cbaf9",
   "metadata": {},
   "outputs": [
    {
     "name": "stdout",
     "output_type": "stream",
     "text": [
      "Success!\n"
     ]
    }
   ],
   "source": [
    "# Get html page and pars it\n",
    "url = \"https://www.phrases.org.uk/meanings/phrases-and-sayings-list.html\"\n",
    "response = req.get(url)\n",
    "if response.status_code == 200:\n",
    "    print(\"Success!\")\n",
    "else:\n",
    "    print(f\"Response is not successfull, Code: {response.status_code}\")\n",
    "html_content = BeautifulSoup(response.text, \"html.parser\")"
   ]
  },
  {
   "cell_type": "code",
   "execution_count": 3,
   "id": "3652225b",
   "metadata": {},
   "outputs": [],
   "source": [
    "# get and clean phrases\n",
    "quotes = html_content.find_all(\"p\", class_=\"phrase-list\")\n",
    "size = len(quotes)\n",
    "cleaned_quotes = [\" \".join(str(quotes[i].text).split()) for i in range(size)]\n",
    "href_quotes = [quotes[i].a[\"href\"] for i in range(size)]"
   ]
  },
  {
   "cell_type": "code",
   "execution_count": null,
   "id": "d6d26347",
   "metadata": {},
   "outputs": [],
   "source": [
    "# The base link\n",
    "BASE_LINK = \"https://www.phrases.org.uk/meanings/\"\n",
    "\n",
    "\n",
    "def get_explanations(url):\n",
    "    response = req.get(BASE_LINK + url)\n",
    "    html_soup = BeautifulSoup(response.text, \"html.parser\")\n",
    "\n",
    "    quote_explanation = html_soup.find_all(\"p\", class_=\"meanings-body\")\n",
    "    if len(quote_explanation) >= 1:\n",
    "        quote_explanation = \" \".join(str(quote_explanation[0].text).split())\n",
    "    else:\n",
    "        quote_explanation = \"NO INFORMATION\"\n",
    "\n",
    "    return quote_explanation\n",
    "\n",
    "\n",
    "# TODO: Remove number_of_quotes to scrap all rows\n",
    "number_of_quotes = len(quotes)\n",
    "explanations = [\n",
    "    get_explanations(i)\n",
    "    for i in tqdm(href_quotes[:number_of_quotes], position=0, leave=True)\n",
    "]"
   ]
  },
  {
   "cell_type": "code",
   "execution_count": 5,
   "id": "fab6d5b0",
   "metadata": {},
   "outputs": [
    {
     "data": {
      "text/html": [
       "<div>\n",
       "<style scoped>\n",
       "    .dataframe tbody tr th:only-of-type {\n",
       "        vertical-align: middle;\n",
       "    }\n",
       "\n",
       "    .dataframe tbody tr th {\n",
       "        vertical-align: top;\n",
       "    }\n",
       "\n",
       "    .dataframe thead th {\n",
       "        text-align: right;\n",
       "    }\n",
       "</style>\n",
       "<table border=\"1\" class=\"dataframe\">\n",
       "  <thead>\n",
       "    <tr style=\"text-align: right;\">\n",
       "      <th></th>\n",
       "      <th>text</th>\n",
       "      <th>explanation</th>\n",
       "      <th>origin</th>\n",
       "    </tr>\n",
       "  </thead>\n",
       "  <tbody>\n",
       "    <tr>\n",
       "      <th>0</th>\n",
       "      <td>A bird in the hand is worth two in the bush</td>\n",
       "      <td>The proverb 'A bird in the hand is worth two i...</td>\n",
       "      <td>English</td>\n",
       "    </tr>\n",
       "    <tr>\n",
       "      <th>1</th>\n",
       "      <td>A bolt from the blue</td>\n",
       "      <td>A complete surprise, like a bolt of lightning ...</td>\n",
       "      <td>English</td>\n",
       "    </tr>\n",
       "    <tr>\n",
       "      <th>2</th>\n",
       "      <td>A bunch of fives</td>\n",
       "      <td>'A bunch of fives' is a slang term for a fist,...</td>\n",
       "      <td>English</td>\n",
       "    </tr>\n",
       "    <tr>\n",
       "      <th>3</th>\n",
       "      <td>A chain is only as strong as its weakest link</td>\n",
       "      <td>The proverb 'A chain is only as strong as its ...</td>\n",
       "      <td>English</td>\n",
       "    </tr>\n",
       "    <tr>\n",
       "      <th>4</th>\n",
       "      <td>A change is as good as a rest</td>\n",
       "      <td>A change is as good as a rest is a proverb tha...</td>\n",
       "      <td>English</td>\n",
       "    </tr>\n",
       "  </tbody>\n",
       "</table>\n",
       "</div>"
      ],
      "text/plain": [
       "                                            text  \\\n",
       "0    A bird in the hand is worth two in the bush   \n",
       "1                           A bolt from the blue   \n",
       "2                               A bunch of fives   \n",
       "3  A chain is only as strong as its weakest link   \n",
       "4                  A change is as good as a rest   \n",
       "\n",
       "                                         explanation   origin  \n",
       "0  The proverb 'A bird in the hand is worth two i...  English  \n",
       "1  A complete surprise, like a bolt of lightning ...  English  \n",
       "2  'A bunch of fives' is a slang term for a fist,...  English  \n",
       "3  The proverb 'A chain is only as strong as its ...  English  \n",
       "4  A change is as good as a rest is a proverb tha...  English  "
      ]
     },
     "execution_count": 5,
     "metadata": {},
     "output_type": "execute_result"
    }
   ],
   "source": [
    "# Constructing the final dataframe\n",
    "quotes_dataframe = pd.DataFrame()\n",
    "quotes_dataframe[\"text\"] = quotes[:number_of_quotes]\n",
    "quotes_dataframe[\"text\"] = quotes_dataframe[\"text\"].apply(lambda x: x.text)\n",
    "quotes_dataframe[\"explanation\"] = explanations\n",
    "quotes_dataframe[\"origin\"] = \"English\"\n",
    "\n",
    "quotes_dataframe.head()"
   ]
  },
  {
   "cell_type": "code",
   "execution_count": 45,
   "id": "8937c949",
   "metadata": {},
   "outputs": [],
   "source": [
    "# Save to file\n",
    "sayings = os.path.join(\n",
    "    settings.BASE_DIR, \"../dataset/sayings, proverbs, idioms/new.csv\"\n",
    ")\n",
    "quotes_dataframe.to_csv(sayings)"
   ]
  },
  {
   "cell_type": "code",
   "execution_count": null,
   "id": "07c6f5d1",
   "metadata": {},
   "outputs": [],
   "source": []
  }
 ],
 "metadata": {
  "kernelspec": {
   "display_name": "Python 3 (ipykernel)",
   "language": "python",
   "name": "python3"
  },
  "language_info": {
   "codemirror_mode": {
    "name": "ipython",
    "version": 3
   },
   "file_extension": ".py",
   "mimetype": "text/x-python",
   "name": "python",
   "nbconvert_exporter": "python",
   "pygments_lexer": "ipython3",
   "version": "3.11.0"
  }
 },
 "nbformat": 4,
 "nbformat_minor": 5
}
