{
 "cells": [
  {
   "cell_type": "markdown",
   "id": "52ce1f1e",
   "metadata": {},
   "source": [
    "# Tatoeba sentence dataset\n",
    "\n",
    "dataset location: `dataset/sayings, proverbs, idioms/English_phrases_and_sayings.csv`\n",
    "* [Download](https://downloads.tatoeba.org/exports/sentences.tar.bz2)\n",
    "* [Source](https://tatoeba.org/en/downloads)\n",
    "\n",
    "I got memory error running this code in one of my lower-end servers, bacause `pandas` loads entire dataset into RAM. so I've created anothed file with `csv_reader`:\n",
    "> `notebooks/Import - Export - Scrapping/Import Tatoeba(csv.reader).ipynb`"
   ]
  },
  {
   "cell_type": "code",
   "execution_count": null,
   "id": "62eeb6c5",
   "metadata": {},
   "outputs": [],
   "source": [
    "# imports\n",
    "import os\n",
    "import pandas as pd\n",
    "from tqdm.auto import tqdm\n",
    "\n",
    "from django.conf import settings\n",
    "from datacore.models import Document, Phrase, Template, PhraseCollection\n",
    "from datacore.functions.stanza import get_stanza"
   ]
  },
  {
   "cell_type": "code",
   "execution_count": null,
   "id": "dfc0f166",
   "metadata": {},
   "outputs": [],
   "source": [
    "# set up NLP pipeline\n",
    "nlp = get_stanza(lang=\"en\", processors='tokenize')\n",
    "\n",
    "Reference1, created  = Reference.objects.get_or_create(title=\"Tatoeba - official homepage\", url=\"https://tatoeba.org/en\", description=\"Tatoeba is a collection of sentences and translations.It's collaborative, open, free and even addictive.\")\n",
    "Reference2, created  = Reference.objects.get_or_create(title=\"Tatoeba - Dataset\", url=\"https://tatoeba.org/en/downloads\", description=\"Tatoeba dataset.\")\n",
    "data_source, created = DataSource.objects.get_or_create(title=\"Tatoeba\")\n",
    "data_source.references.add(Reference1, Reference2)\n",
    "\n",
    "tatoeba, created = PhraseCollection.objects.get_or_create(title=\"Tatoeba Phrases xxx\")\n",
    "tatoeba.data_sources.add(data_source)"
   ]
  },
  {
   "cell_type": "code",
   "execution_count": null,
   "id": "7a828d16",
   "metadata": {},
   "outputs": [],
   "source": [
    "# Download dataset if it doens't exist\n",
    "url = 'https://downloads.tatoeba.org/exports/sentences.tar.bz2'\n",
    "dir_path = os.path.join(settings.BASE_DIR, '../dataset/tatoeba/')\n",
    "path = os.path.join(dir_path, 'sentences.csv')\n",
    "if not os.path.exists(path):\n",
    "    from datacore.functions.utils import download, get_or_create_dir\n",
    "    get_or_create_dir(dir_path)\n",
    "    download(url, path)"
   ]
  },
  {
   "cell_type": "code",
   "execution_count": null,
   "id": "119b39d7",
   "metadata": {},
   "outputs": [],
   "source": [
    "print(\"Loading dataset...\")\n",
    "df = pd.read_csv(path, encoding='utf-8', sep='\\t', header=None, usecols=[1, 2], names=['language', 'sentence'])\n",
    "df.info()\n",
    "df.head()"
   ]
  },
  {
   "cell_type": "code",
   "execution_count": null,
   "id": "c8866526",
   "metadata": {},
   "outputs": [],
   "source": [
    "#OPTIONAL: Only import english sentences\n",
    "df = df[df.language == 'eng']"
   ]
  },
  {
   "cell_type": "code",
   "execution_count": null,
   "id": "418e30d9",
   "metadata": {
    "scrolled": true
   },
   "outputs": [],
   "source": [
    "# Import phrases\n",
    "for row in tqdm(df.iterrows(), total=len(df)):\n",
    "    try:\n",
    "        # Import phrases in all languages or in a specific language using alpha3 code in row[1]\n",
    "        doc = nlp(row[1]['sentence'])\n",
    "        for sentence in doc.sentences:\n",
    "            phrase, created = Phrase.objects.get_or_create(text=sentence.text)\n",
    "            tatoeba.phrases.add(phrase)\n",
    "    except Exception as e:\n",
    "        print(f\"error in importing row #{row.index()} with data: {row[1]}\\nError: {e}\\n\")"
   ]
  },
  {
   "cell_type": "code",
   "execution_count": null,
   "id": "8001e1c6",
   "metadata": {},
   "outputs": [],
   "source": []
  }
 ],
 "metadata": {
  "kernelspec": {
   "display_name": "Django Shell-Plus",
   "language": "python",
   "name": "django_extensions"
  },
  "language_info": {
   "codemirror_mode": {
    "name": "ipython",
    "version": 3
   },
   "file_extension": ".py",
   "mimetype": "text/x-python",
   "name": "python",
   "nbconvert_exporter": "python",
   "pygments_lexer": "ipython3",
   "version": "3.11.0"
  }
 },
 "nbformat": 4,
 "nbformat_minor": 5
}
