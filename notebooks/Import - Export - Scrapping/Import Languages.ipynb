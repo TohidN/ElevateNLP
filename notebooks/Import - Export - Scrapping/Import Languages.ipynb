{
 "cells": [
  {
   "cell_type": "markdown",
   "id": "c7b79c1c",
   "metadata": {},
   "source": [
    "## Import Languages\n",
    "\n",
    "dataset location:\n",
    "> `\\dataset\\languages\\`\n",
    "\n",
    "### languages.json\n",
    "data from WikiPedia and in ISO format, includes extra data such as native name and number of speakers. Source:\n",
    "* https://en.wikipedia.org/wiki/List_of_languages_by_number_of_native_speakers\n",
    "\n",
    "### language-codes\n",
    "ISO Language Codes (639-1 and 693-2) and IETF Language Types(\"language-codes\" directory): \n",
    "* https://datahub.io/core/language-codes\n",
    "\n",
    "more on specific standards:\n",
    "* https://www.iso.org/iso-639-language-codes.html\n",
    "\n",
    "\"file\" collumn in \"ietf-language-tags.csv\" point to \"core/main\" directory files with usefull information about languages.\n",
    "\n",
    "### core\n",
    "provided by [CLDR project](https://cldr.unicode.org/) available in:\n",
    "* https://www.unicode.org/Public/cldr/latest/core.zip"
   ]
  },
  {
   "cell_type": "code",
   "execution_count": 1,
   "id": "5d167cfe",
   "metadata": {},
   "outputs": [],
   "source": [
    "# Cleaning and setup.\n",
    "import os, json\n",
    "import pandas as pd\n",
    "from tqdm.auto import tqdm\n",
    "from django.conf import settings\n",
    "from datacore.models import Language\n",
    "\n",
    "# OPTIONAL: Deleting all Languages from database.\n",
    "#Language.objects.all().delete()\n",
    "# OPTIONAL: Deleting all Languages from database except English.\n",
    "#Language.objects.all().exclude(alpha2='en').delete()"
   ]
  },
  {
   "cell_type": "code",
   "execution_count": 2,
   "id": "64b7d28a",
   "metadata": {},
   "outputs": [
    {
     "data": {
      "application/vnd.jupyter.widget-view+json": {
       "model_id": "396ee666bbb94fb190b061a672100c05",
       "version_major": 2,
       "version_minor": 0
      },
      "text/plain": [
       "  0%|          | 0/184 [00:00<?, ?it/s]"
      ]
     },
     "metadata": {},
     "output_type": "display_data"
    }
   ],
   "source": [
    "# Importing Languages.\n",
    "# import alpha2, alpha3b, en_name\n",
    "lang_file = os.path.join(settings.BASE_DIR, '../dataset/languages/language-codes/archive/language-codes-3b2.csv')\n",
    "df = pd.read_csv(lang_file, encoding='utf-8', sep=',')\n",
    "\n",
    "for row in tqdm(df.iterrows(), total=len(df)):\n",
    "    language, created = Language.objects.get_or_create(alpha2=row[1]['alpha2'])\n",
    "    language.alpha3b = row[1]['alpha3-b']\n",
    "    language.en_name = row[1]['English']\n",
    "    language.save()"
   ]
  },
  {
   "cell_type": "code",
   "execution_count": 3,
   "id": "0cf9085c",
   "metadata": {},
   "outputs": [
    {
     "data": {
      "application/vnd.jupyter.widget-view+json": {
       "model_id": "9b0c8c306b4c40e89aec938825831efc",
       "version_major": 2,
       "version_minor": 0
      },
      "text/plain": [
       "  0%|          | 0/487 [00:00<?, ?it/s]"
      ]
     },
     "metadata": {},
     "output_type": "display_data"
    },
    {
     "name": "stdout",
     "output_type": "stream",
     "text": [
      "Error in importing row: alpha3-b                     qaa-qtz\n",
      "alpha3-t                            \n",
      "alpha2                              \n",
      "English       Reserved for local use\n",
      "French      réservée à l'usage local\n",
      "Name: 352, dtype: object\n"
     ]
    }
   ],
   "source": [
    "# import alpha3t and less used languages\n",
    "lang_file = os.path.join(settings.BASE_DIR, '../dataset/languages/language-codes/archive/language-codes-full.csv')\n",
    "df = pd.read_csv(lang_file, encoding='utf-8', sep=',')\n",
    "df.fillna('', inplace=True)\n",
    "\n",
    "for row in tqdm(df.iterrows(), total=len(df)):\n",
    "    try:\n",
    "        if row[1]['alpha2'] != \"\":\n",
    "            language = Language.objects.get(alpha2=row[1]['alpha2'])\n",
    "            if row[1]['alpha3-t'] != \"\":\n",
    "                language.alpha3t = row[1]['alpha3-t']\n",
    "                language.save()\n",
    "        else:\n",
    "            language = Language(alpha3b=row[1]['alpha3-b'], en_name=row[1]['English'])\n",
    "            language.save()       \n",
    "    except:\n",
    "        tqdm.write(f\"Error in importing row: {row[1]}\")\n",
    "    "
   ]
  },
  {
   "cell_type": "code",
   "execution_count": 4,
   "id": "3fabb35f",
   "metadata": {},
   "outputs": [
    {
     "data": {
      "application/vnd.jupyter.widget-view+json": {
       "model_id": "04b77f51d17c44a8849c99cb90c2a4d8",
       "version_major": 2,
       "version_minor": 0
      },
      "text/plain": [
       "  0%|          | 0/182 [00:00<?, ?it/s]"
      ]
     },
     "metadata": {},
     "output_type": "display_data"
    }
   ],
   "source": [
    "# import custom data(for now: language in native and number of speakers)\n",
    "lang_file_json = os.path.join(settings.BASE_DIR, '../dataset/languages/languages.json')\n",
    "lang_data_json = json.loads(open(lang_file_json, \"rb\").read().decode('utf-8-sig'))\n",
    "for lang in tqdm(lang_data_json):\n",
    "    try:\n",
    "        language = Language.objects.get(alpha2=lang)\n",
    "        if 'speakers' in lang_data_json[lang]:\n",
    "            language.native_speakers = lang_data_json[lang]['speakers']\n",
    "        language.native_name = lang_data_json[lang]['nativeName']\n",
    "        language.save()\n",
    "    except:\n",
    "        print(f\"Error in importing: {lang_data_json[lang]}\")\n",
    "\n",
    "# TODO: import dialect, territory, and other language data from ietf-language-tags.csv and it's link to 'core' dataset\n",
    "# TODO: locations can be imported from http://www.geonames.org/"
   ]
  },
  {
   "cell_type": "code",
   "execution_count": null,
   "id": "122baed5",
   "metadata": {},
   "outputs": [],
   "source": []
  }
 ],
 "metadata": {
  "kernelspec": {
   "display_name": "Django Shell-Plus",
   "language": "python",
   "name": "django_extensions"
  },
  "language_info": {
   "codemirror_mode": {
    "name": "ipython",
    "version": 3
   },
   "file_extension": ".py",
   "mimetype": "text/x-python",
   "name": "python",
   "nbconvert_exporter": "python",
   "pygments_lexer": "ipython3",
   "version": "3.11.0"
  }
 },
 "nbformat": 4,
 "nbformat_minor": 5
}
