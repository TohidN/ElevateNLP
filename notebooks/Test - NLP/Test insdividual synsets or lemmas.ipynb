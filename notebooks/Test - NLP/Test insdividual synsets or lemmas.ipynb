{
 "cells": [
  {
   "cell_type": "code",
   "execution_count": null,
   "id": "88d67454",
   "metadata": {},
   "outputs": [],
   "source": [
    "# Required packages\n",
    "from nltk.corpus import wordnet as wn\n",
    "\n",
    "# for lemmatizition\n",
    "from nltk.stem import WordNetLemmatizer\n",
    "\n",
    "lemmatizer = WordNetLemmatizer()\n",
    "# for parsing\n",
    "import re"
   ]
  },
  {
   "cell_type": "code",
   "execution_count": null,
   "id": "fab3ed23",
   "metadata": {},
   "outputs": [],
   "source": [
    "# get a single item\n",
    "print(wn.synset(\"dog.n.01\"))\n",
    "print(wn.synset(\"dog.n.01\").definition())\n",
    "print(wn.synset(\"dog.n.01\").attributes())"
   ]
  },
  {
   "cell_type": "code",
   "execution_count": null,
   "id": "59837d95",
   "metadata": {},
   "outputs": [],
   "source": [
    "# antonyms for synsets with specific lemma\n",
    "for synset in wn.synsets(\"Worse\"):\n",
    "    for lemma in synset.lemmas():\n",
    "        lemma_name = lemma.name().replace(\"_\", \" \")\n",
    "        if lemma.antonyms():\n",
    "            print(f\"> {lemma_name}\")\n",
    "            for antonym in lemma.antonyms():\n",
    "                antonym_name = antonym.name().replace(\"_\", \" \")\n",
    "                print(f\"\\t{antonym_name}\")\n",
    "            print(\"__________________\")"
   ]
  },
  {
   "cell_type": "code",
   "execution_count": null,
   "id": "09552b32",
   "metadata": {},
   "outputs": [],
   "source": [
    "# Synonym and Antonims of synsets with specific lemma\n",
    "syn = list()\n",
    "ant = list()\n",
    "for synset in wn.synsets(\"Worse\"):\n",
    "    for lemma in synset.lemmas():\n",
    "        syn.append(lemma.name())  # add the synonyms\n",
    "        if lemma.antonyms():  # When antonyms are available, add them into the list\n",
    "            ant.append(lemma.antonyms()[0].name())\n",
    "print(\"Synonyms: \" + str(syn))\n",
    "print(\"Antonyms: \" + str(ant))"
   ]
  }
 ],
 "metadata": {
  "kernelspec": {
   "display_name": "Python 3 (ipykernel)",
   "language": "python",
   "name": "python3"
  },
  "language_info": {
   "codemirror_mode": {
    "name": "ipython",
    "version": 3
   },
   "file_extension": ".py",
   "mimetype": "text/x-python",
   "name": "python",
   "nbconvert_exporter": "python",
   "pygments_lexer": "ipython3",
   "version": "3.10.5"
  }
 },
 "nbformat": 4,
 "nbformat_minor": 5
}
