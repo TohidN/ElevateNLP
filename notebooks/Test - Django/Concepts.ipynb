{
 "cells": [
  {
   "cell_type": "code",
   "execution_count": null,
   "id": "a95ddd07",
   "metadata": {},
   "outputs": [],
   "source": [
    "from datacore.models import Language, Concept, Lemma, Word"
   ]
  },
  {
   "cell_type": "code",
   "execution_count": null,
   "id": "0bb9d2e9",
   "metadata": {},
   "outputs": [],
   "source": [
    "# Search for word and it's concepts\n",
    "lemma = Lemma.objects.get(text=\"apple\")\n",
    "concepts = Concept.objects.filter(synonyms=lemma)\n",
    "print(lemma)\n",
    "print(list(concepts))"
   ]
  },
  {
   "cell_type": "code",
   "execution_count": null,
   "id": "82ca1523",
   "metadata": {},
   "outputs": [],
   "source": [
    "# Get concept with specific synonym\n",
    "Concept.objects.filter(synonyms__text=\"run\")[1]"
   ]
  },
  {
   "cell_type": "code",
   "execution_count": null,
   "id": "51aeaf23",
   "metadata": {},
   "outputs": [],
   "source": [
    "# Replace a field value in concepts using WordNet Synsets\n",
    "for synset in wn.all_synsets():\n",
    "    # Get Synset from 'Concept' model\n",
    "    try:\n",
    "        #syn_obj = Concept.objects.get(source_offset=synset.offset(), pos=Component.get_by_wn(synset.pos()).code)\n",
    "        #syn_obj.pos = Component.get_by_wn(synset.pos())\n",
    "        #syn_obj.save()\n",
    "    except Exception as e:\n",
    "        print(\"~~~~~~ Error ~~~~~~\")\n",
    "        print(e)\n",
    "        print(synset.offset())"
   ]
  }
 ],
 "metadata": {
  "kernelspec": {
   "display_name": "Django Shell-Plus",
   "language": "python",
   "name": "django_extensions"
  },
  "language_info": {
   "codemirror_mode": {
    "name": "ipython",
    "version": 3
   },
   "file_extension": ".py",
   "mimetype": "text/x-python",
   "name": "python",
   "nbconvert_exporter": "python",
   "pygments_lexer": "ipython3",
   "version": "3.10.5"
  }
 },
 "nbformat": 4,
 "nbformat_minor": 5
}
