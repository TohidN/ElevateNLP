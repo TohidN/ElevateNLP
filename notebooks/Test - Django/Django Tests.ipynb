{
 "cells": [
  {
   "cell_type": "code",
   "execution_count": 4,
   "id": "c0ffad41",
   "metadata": {},
   "outputs": [],
   "source": [
    "# imports\n",
    "from datacore.models import Language, Concept, Lemma, Word"
   ]
  },
  {
   "cell_type": "code",
   "execution_count": null,
   "id": "80e7e9c5",
   "metadata": {},
   "outputs": [],
   "source": [
    "# Show languages\n",
    "for language in Language.objects.all():\n",
    "    print(language)"
   ]
  },
  {
   "cell_type": "code",
   "execution_count": null,
   "id": "ad5f6d4a",
   "metadata": {},
   "outputs": [],
   "source": [
    "# process a document(tokenize sentences)\n",
    "doc = Document.objects.get(pk=1076)\n",
    "doc.process_document()"
   ]
  },
  {
   "cell_type": "code",
   "execution_count": 4,
   "id": "98837cba",
   "metadata": {},
   "outputs": [
    {
     "name": "stdout",
     "output_type": "stream",
     "text": [
      "4\n",
      "<QuerySet [<PhraseAnalysis: (stanza) During what years did Chopin receive instruction from  Żywny?>, <PhraseAnalysis: (stanza) Fryderyk may have had some piano instruction from his mother, but his first professional music tutor, from 1816 to 1821, was the Czech pianist Wojciech Żywny.>, <PhraseAnalysis: (stanza) His elder sister Ludwika also took lessons from Żywny, and occasionally played duets with her brother.>, <PhraseAnalysis: (stanza) His next work, a polonaise in A-flat major of 1821, dedicated to Żywny, is his earliest surviving musical manuscript.>]>\n"
     ]
    }
   ],
   "source": [
    "# all phrases with a specific word\n",
    "#word = Word.objects.get(text=\"do\")\n",
    "word = Word.objects.get(pk=93344)\n",
    "analysis = PhraseAnalysis.objects.filter(words__id=word.pk)\n",
    "print(len(analysis))\n",
    "print(analysis)"
   ]
  },
  {
   "cell_type": "code",
   "execution_count": null,
   "id": "4fdd5797",
   "metadata": {},
   "outputs": [],
   "source": [
    "# analyze a sentence and create it's words\n",
    "import stanza\n",
    "analyzer = \"stanza\"\n",
    "phrase_item = Phrase.objects.get(pk=41534)\n",
    "analysis = PhraseAnalysis(phrase=phrase_item, analyzer=analyzer)\n",
    "language = phrase_item.language\n",
    "\n",
    "nlp = stanza.Pipeline(lang='en', processors='tokenize,mwt,pos', tokenize_no_ssplit=True)\n",
    "doc = nlp(phrase_item.text)\n",
    "phrase = doc.sentences[0]\n",
    "for word in phrase.words:\n",
    "    print(word.text)\n",
    "    word_obj, created = Word.objects.get_or_create(text=word.text, language=language)"
   ]
  },
  {
   "cell_type": "code",
   "execution_count": 1,
   "id": "fe488e4e",
   "metadata": {},
   "outputs": [
    {
     "name": "stderr",
     "output_type": "stream",
     "text": [
      "2022-02-27 16:22:57 INFO: Loading these models for language: en (English):\n",
      "=========================\n",
      "| Processor | Package   |\n",
      "-------------------------\n",
      "| tokenize  | combined  |\n",
      "| pos       | combined  |\n",
      "| lemma     | combined  |\n",
      "| depparse  | combined  |\n",
      "| ner       | ontonotes |\n",
      "=========================\n",
      "\n",
      "2022-02-27 16:22:57 INFO: Use device: cpu\n",
      "2022-02-27 16:22:57 INFO: Loading: tokenize\n",
      "2022-02-27 16:22:57 INFO: Loading: pos\n",
      "2022-02-27 16:22:59 INFO: Loading: lemma\n",
      "2022-02-27 16:22:59 INFO: Loading: depparse\n",
      "2022-02-27 16:23:01 INFO: Loading: ner\n",
      "2022-02-27 16:23:09 INFO: Done loading processors!\n"
     ]
    },
    {
     "name": "stdout",
     "output_type": "stream",
     "text": [
      "python\n",
      "be\n",
      "(stanza) Python is a popular programming language.\n",
      "{'1': {'id': 1, 'text': 'Python', 'upos': 'PROPN', 'xpos': 'NNP', 'start_char': 0, 'end_char': 6, 'feats': {'Number': 'Sing'}, 'ner': 'O'}, '2': {'id': 2, 'text': 'is', 'upos': 'AUX', 'xpos': 'VBZ', 'start_char': 7, 'end_char': 9, 'feats': {'Mood': 'Ind', 'Number': 'Sing', 'Person': '3', 'Tense': 'Pres', 'VerbForm': 'Fin'}, 'ner': 'O'}, '3': {'id': 3, 'text': 'a', 'upos': 'DET', 'xpos': 'DT', 'start_char': 10, 'end_char': 11, 'feats': {'Definite': 'Ind', 'PronType': 'Art'}, 'ner': 'O'}, '4': {'id': 4, 'text': 'popular', 'upos': 'ADJ', 'xpos': 'JJ', 'start_char': 12, 'end_char': 19, 'feats': {'Degree': 'Pos'}, 'ner': 'O'}, '5': {'id': 5, 'text': 'programming', 'upos': 'NOUN', 'xpos': 'NN', 'start_char': 20, 'end_char': 31, 'feats': {'Number': 'Sing'}, 'ner': 'O'}, '6': {'id': 6, 'text': 'language', 'upos': 'NOUN', 'xpos': 'NN', 'start_char': 32, 'end_char': 40, 'feats': {'Number': 'Sing'}, 'ner': 'O'}, '7': {'id': 7, 'text': '.', 'upos': 'PUNCT', 'xpos': '.', 'start_char': 40, 'end_char': 41, 'ner': 'O'}}\n"
     ]
    }
   ],
   "source": [
    "# Analyze a specific phrase\n",
    "phrase = Phrase.objects.get(pk=227886)\n",
    "analysis = phrase.analyze(save=True, analyzer='stanza')\n",
    "print(analysis)\n",
    "print(analysis.data)"
   ]
  },
  {
   "cell_type": "code",
   "execution_count": 1,
   "id": "9eb5b52a",
   "metadata": {},
   "outputs": [
    {
     "name": "stdout",
     "output_type": "stream",
     "text": [
      "<QuerySet []>\n"
     ]
    }
   ],
   "source": [
    "# List and remove rows with duplicate field values\n",
    "words = Word.objects.values('text').annotate(Count('id')).order_by().filter(id__count__gt=1)\n",
    "for word in words:\n",
    "    Word.objects.filter(text=word['text']).delete()\n",
    "print(words)"
   ]
  },
  {
   "cell_type": "code",
   "execution_count": 3,
   "id": "06fcb319",
   "metadata": {},
   "outputs": [
    {
     "data": {
      "text/plain": [
       "(0, {})"
      ]
     },
     "execution_count": 3,
     "metadata": {},
     "output_type": "execute_result"
    }
   ],
   "source": [
    "# Flush database\n",
    "Corpora.objects.filter().delete()\n",
    "PhraseCollection.objects.filter().delete()\n",
    "Document.objects.filter().delete()\n",
    "Phrase.objects.filter().delete()\n",
    "Template.objects.filter().delete()\n",
    "Word.objects.filter().delete()"
   ]
  },
  {
   "cell_type": "code",
   "execution_count": null,
   "id": "ae33aac6",
   "metadata": {},
   "outputs": [],
   "source": []
  }
 ],
 "metadata": {
  "kernelspec": {
   "display_name": "Django Shell-Plus",
   "language": "python",
   "name": "django_extensions"
  },
  "language_info": {
   "codemirror_mode": {
    "name": "ipython",
    "version": 3
   },
   "file_extension": ".py",
   "mimetype": "text/x-python",
   "name": "python",
   "nbconvert_exporter": "python",
   "pygments_lexer": "ipython3",
   "version": "3.8.10"
  }
 },
 "nbformat": 4,
 "nbformat_minor": 5
}
