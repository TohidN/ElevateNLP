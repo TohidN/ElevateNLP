{
 "cells": [
  {
   "cell_type": "code",
   "execution_count": 2,
   "id": "d68e2da9",
   "metadata": {},
   "outputs": [
    {
     "name": "stdout",
     "output_type": "stream",
     "text": [
      "concepts:  117659\n",
      "words:  157782\n",
      "examples:  48225\n",
      "phrases:  72763\n",
      "documents:  249\n",
      "relationships:  155901\n"
     ]
    }
   ],
   "source": [
    "from datacore.models import Concept, Word, Example, Phrase, Document, Relation\n",
    "\n",
    "print(\"concepts: \", Concept.objects.all().count())\n",
    "print(\"words: \", Word.objects.all().count())\n",
    "print(\"examples: \", Example.objects.all().count())\n",
    "print(\"phrases: \", Phrase.objects.all().count())\n",
    "print(\"documents: \", Document.objects.all().count())\n",
    "print(\"relationships: \", Relation.objects.all().count())"
   ]
  },
  {
   "cell_type": "code",
   "execution_count": null,
   "id": "757c3670",
   "metadata": {},
   "outputs": [],
   "source": []
  }
 ],
 "metadata": {
  "kernelspec": {
   "display_name": "Django Shell-Plus",
   "language": "python",
   "name": "django_extensions"
  },
  "language_info": {
   "codemirror_mode": {
    "name": "ipython",
    "version": 3
   },
   "file_extension": ".py",
   "mimetype": "text/x-python",
   "name": "python",
   "nbconvert_exporter": "python",
   "pygments_lexer": "ipython3",
   "version": "3.11.0"
  }
 },
 "nbformat": 4,
 "nbformat_minor": 5
}
