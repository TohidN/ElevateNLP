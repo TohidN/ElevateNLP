{
 "cells": [
  {
   "cell_type": "code",
   "execution_count": 2,
   "id": "5c65d440",
   "metadata": {},
   "outputs": [
    {
     "data": {
      "application/vnd.jupyter.widget-view+json": {
       "model_id": "f62e2da2f1594efeac5c26fa1df881b8",
       "version_major": 2,
       "version_minor": 0
      },
      "text/plain": [
       "Downloading https://raw.githubusercontent.com/stanfordnlp/stanza-resources/main/resources_1.4.0.json:   0%|   …"
      ]
     },
     "metadata": {},
     "output_type": "display_data"
    },
    {
     "name": "stderr",
     "output_type": "stream",
     "text": [
      "2022-09-03 16:17:13 INFO: Loading these models for language: en (English):\n",
      "===========================\n",
      "| Processor    | Package  |\n",
      "---------------------------\n",
      "| tokenize     | combined |\n",
      "| pos          | combined |\n",
      "| constituency | wsj      |\n",
      "===========================\n",
      "\n",
      "2022-09-03 16:17:13 INFO: Use device: cpu\n",
      "2022-09-03 16:17:13 INFO: Loading: tokenize\n",
      "2022-09-03 16:17:13 INFO: Loading: pos\n",
      "2022-09-03 16:17:15 INFO: Loading: constituency\n",
      "2022-09-03 16:17:18 INFO: Done loading processors!\n"
     ]
    }
   ],
   "source": [
    "# Required packages\n",
    "import stanza\n",
    "nlp = stanza.Pipeline(lang='en', processors='tokenize,pos,constituency')"
   ]
  },
  {
   "cell_type": "code",
   "execution_count": 95,
   "id": "1c57a893",
   "metadata": {},
   "outputs": [],
   "source": [
    "doc = nlp('Custom models could support any set of labels as long as you have training data.')"
   ]
  },
  {
   "cell_type": "code",
   "execution_count": 96,
   "id": "48dfabc3",
   "metadata": {},
   "outputs": [
    {
     "name": "stdout",
     "output_type": "stream",
     "text": [
      "(ROOT (S (NP (JJ Custom) (NNS models)) (VP (MD could) (VP (VB support) (NP (NP (DT any) (NN set)) (PP (IN of) (NP (NNS labels)))) (ADVP (ADVP (RB as) (RB long)) (SBAR (IN as) (S (NP (PRP you)) (VP (VBP have) (NP (NN training) (NNS data)))))))) (. .)))\n",
      "<class 'stanza.models.constituency.parse_tree.Tree'>\n",
      "(ROOT (S (NP (JJ Custom) (NNS models)) (VP (MD could) (VP (VB support) (NP (NP (DT any) (NN set)) (PP (IN of) (NP (NNS labels)))) (ADVP (ADVP (RB as) (RB long)) (SBAR (IN as) (S (NP (PRP you)) (VP (VBP have) (NP (NN training) (NNS data)))))))) (. .)))\n",
      "<class 'str'>\n"
     ]
    }
   ],
   "source": [
    "for sentence in doc.sentences:\n",
    "    constituency = sentence.constituency\n",
    "    # constituency and it's type\n",
    "    print(constituency)\n",
    "    print(type(constituency))\n",
    "    # constituency in string format\n",
    "    print(constituency.__format__(spec='?'))\n",
    "    print(type(constituency.__format__(spec='?')))"
   ]
  },
  {
   "cell_type": "code",
   "execution_count": 97,
   "id": "de0294f8",
   "metadata": {},
   "outputs": [
    {
     "name": "stdout",
     "output_type": "stream",
     "text": [
      "ROOT\n",
      "((S (NP (JJ Custom) (NNS models)) (VP (MD could) (VP (VB support) (NP (NP (DT any) (NN set)) (PP (IN of) (NP (NNS labels)))) (ADVP (ADVP (RB as) (RB long)) (SBAR (IN as) (S (NP (PRP you)) (VP (VBP have) (NP (NN training) (NNS data)))))))) (. .)),)\n",
      "S\n",
      "((NP (JJ Custom) (NNS models)), (VP (MD could) (VP (VB support) (NP (NP (DT any) (NN set)) (PP (IN of) (NP (NNS labels)))) (ADVP (ADVP (RB as) (RB long)) (SBAR (IN as) (S (NP (PRP you)) (VP (VBP have) (NP (NN training) (NNS data)))))))), (. .))\n",
      "\n",
      "(JJ Custom)\n",
      "JJ\n",
      "Custom\n"
     ]
    }
   ],
   "source": [
    "tree = doc.sentences[0].constituency\n",
    "print(tree.label)\n",
    "print(tree.children)\n",
    "print(tree.children[0].label)\n",
    "print(tree.children[0].children)\n",
    "print()\n",
    "print(tree.children[0].children[0].children[0])\n",
    "print(tree.children[0].children[0].children[0].label)\n",
    "print(tree.children[0].children[0].children[0].children[0].label)"
   ]
  },
  {
   "cell_type": "code",
   "execution_count": 98,
   "id": "78579ff9",
   "metadata": {},
   "outputs": [
    {
     "name": "stdout",
     "output_type": "stream",
     "text": [
      "((S (NP (JJ Custom) (NNS models)) (VP (MD could) (VP (VB support) (NP (NP (DT any) (NN set)) (PP (IN of) (NP (NNS labels)))) (ADVP (ADVP (RB as) (RB long)) (SBAR (IN as) (S (NP (PRP you)) (VP (VBP have) (NP (NN training) (NNS data)))))))) (. .)),)\n",
      "S(NP(JJ,NNS)VP(MD,VP(VB,NP(NP(DT,NN)PP(IN,NP(NNS)))ADVP(ADVP(RB,RB)SBAR(IN,S(NP(PRP)VP(VBP,NP(NN,NNS))))))).)\n"
     ]
    }
   ],
   "source": [
    "# Create a pattern signature from constituency(constituancy string without words)\n",
    "print(tree.children)\n",
    "def get_constituency_template(children):\n",
    "    result = \"\"\n",
    "    c = 0\n",
    "    for child in children:\n",
    "        c = c+1\n",
    "        if len(child.children) > 0:\n",
    "            result = result + child.label\n",
    "            if len(child.children[0].children):\n",
    "                result = result +\"(\"+ get_constituency_template(child.children) +\")\"\n",
    "            elif c!=len(children):\n",
    "                result = result + \",\"\n",
    "    return result\n",
    "\n",
    "print(get_constituency_template(tree.children))"
   ]
  },
  {
   "cell_type": "code",
   "execution_count": null,
   "id": "4c13e3cb",
   "metadata": {},
   "outputs": [],
   "source": []
  },
  {
   "cell_type": "code",
   "execution_count": null,
   "id": "7874f1c3",
   "metadata": {},
   "outputs": [],
   "source": []
  }
 ],
 "metadata": {
  "kernelspec": {
   "display_name": "Python 3 (ipykernel)",
   "language": "python",
   "name": "python3"
  },
  "language_info": {
   "codemirror_mode": {
    "name": "ipython",
    "version": 3
   },
   "file_extension": ".py",
   "mimetype": "text/x-python",
   "name": "python",
   "nbconvert_exporter": "python",
   "pygments_lexer": "ipython3",
   "version": "3.10.5"
  }
 },
 "nbformat": 4,
 "nbformat_minor": 5
}
