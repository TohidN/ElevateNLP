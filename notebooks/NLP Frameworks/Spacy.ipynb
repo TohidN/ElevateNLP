{
 "cells": [
  {
   "cell_type": "code",
   "execution_count": 2,
   "id": "90b00f5b",
   "metadata": {},
   "outputs": [
    {
     "data": {
      "text/plain": [
       "{'spacy_version': '3.4.1',\n",
       " 'location': 'C:\\\\prj\\\\elevate\\\\venv\\\\lib\\\\site-packages\\\\spacy',\n",
       " 'platform': 'Windows-10-10.0.19044-SP0',\n",
       " 'python_version': '3.10.5',\n",
       " 'pipelines': {'en_core_web_sm': '3.4.0'}}"
      ]
     },
     "execution_count": 2,
     "metadata": {},
     "output_type": "execute_result"
    }
   ],
   "source": [
    "# Imports and configuration\n",
    "import spacy\n",
    "import os\n",
    "\n",
    "gpu_activated = spacy.prefer_gpu()\n",
    "nlp = spacy.load(\"en_core_web_sm\")\n",
    "# Spacy general info\n",
    "spacy.info()"
   ]
  },
  {
   "cell_type": "code",
   "execution_count": 5,
   "id": "7661c41d",
   "metadata": {},
   "outputs": [
    {
     "data": {
      "text/plain": [
       "0"
      ]
     },
     "execution_count": 5,
     "metadata": {},
     "output_type": "execute_result"
    }
   ],
   "source": [
    "# download \"en_core_web_sm\" language model\n",
    "# os.system('cmd /c \"python -m spacy download en_core_web_sm\"')"
   ]
  },
  {
   "cell_type": "code",
   "execution_count": 3,
   "id": "a955b50c",
   "metadata": {},
   "outputs": [
    {
     "name": "stdout",
     "output_type": "stream",
     "text": [
      "Apple NNP noun, proper singular\n",
      "is VBZ verb, 3rd person singular present\n",
      "looking VBG verb, gerund or present participle\n",
      "at IN conjunction, subordinating or preposition\n",
      "buying VBG verb, gerund or present participle\n",
      "U.K. NNP noun, proper singular\n",
      "startup NN noun, singular or mass\n",
      "for IN conjunction, subordinating or preposition\n",
      "$ $ symbol, currency\n",
      "1 CD cardinal number\n",
      "billion CD cardinal number\n"
     ]
    }
   ],
   "source": [
    "doc = nlp(\"Apple is looking at buying U.K. startup for $1 billion\")\n",
    "for word in doc:\n",
    "    print(\n",
    "        word.text,\n",
    "        word.tag_,\n",
    "    )"
   ]
  },
  {
   "cell_type": "code",
   "execution_count": 68,
   "id": "64fd8069",
   "metadata": {},
   "outputs": [
    {
     "name": "stdout",
     "output_type": "stream",
     "text": [
      "0\tApple\t0-5\tApple\tPROPN\tNNP\tnoun, proper singular\n",
      "Number=Sing\t\n",
      "2\tnsubj\t\n",
      "------------------------------\n",
      "1\tis\t6-8\tbe\tAUX\tVBZ\tverb, 3rd person singular present\n",
      "Mood=Ind|Number=Sing|Person=3|Tense=Pres|VerbForm=Fin\t\n",
      "2\taux\t\n",
      "------------------------------\n",
      "2\tlooking\t9-16\tlook\tVERB\tVBG\tverb, gerund or present participle\n",
      "Aspect=Prog|Tense=Pres|VerbForm=Part\t\n",
      "2\tROOT\t\n",
      "------------------------------\n",
      "3\tat\t17-19\tat\tADP\tIN\tconjunction, subordinating or preposition\n",
      "\t\n",
      "2\tprep\t\n",
      "------------------------------\n",
      "4\tbuying\t20-26\tbuy\tVERB\tVBG\tverb, gerund or present participle\n",
      "Aspect=Prog|Tense=Pres|VerbForm=Part\t\n",
      "3\tpcomp\t\n",
      "------------------------------\n",
      "5\tU.K.\t27-31\tU.K.\tPROPN\tNNP\tnoun, proper singular\n",
      "Number=Sing\t\n",
      "4\tdobj\t\n",
      "------------------------------\n",
      "6\tstartup\t32-39\tstartup\tNOUN\tNN\tnoun, singular or mass\n",
      "Number=Sing\t\n",
      "4\tdobj\t\n",
      "------------------------------\n",
      "7\tfor\t40-43\tfor\tADP\tIN\tconjunction, subordinating or preposition\n",
      "\t\n",
      "6\tprep\t\n",
      "------------------------------\n",
      "8\t$\t44-45\t$\tSYM\t$\tsymbol, currency\n",
      "\t\n",
      "10\tquantmod\t\n",
      "------------------------------\n",
      "9\t1\t45-46\t1\tNUM\tCD\tcardinal number\n",
      "NumType=Card\t\n",
      "10\tcompound\t\n",
      "------------------------------\n",
      "10\tbillion\t47-54\tbillion\tNUM\tCD\tcardinal number\n",
      "NumType=Card\t\n",
      "7\tpobj\t\n",
      "------------------------------\n"
     ]
    }
   ],
   "source": [
    "# Tokenize, lemmatizer, POS, tags, dependancy and more\n",
    "doc = nlp(\"Apple is looking at buying U.K. startup for $1 billion\")\n",
    "for token in doc:\n",
    "    print(\n",
    "        f\"{token.i}\\t{token.text}\\t{doc[token.i:token.i+1].start_char}-{doc[token.i:token.i+1].end_char}\\t{token.lemma_}\\t{token.pos_}\\t{token.tag_}\\t{spacy.explain(token.tag_)}\"\n",
    "    )\n",
    "    print(f\"{token.morph.__str__()}\\t\")\n",
    "    print(f\"{token.head.i}\\t{token.dep_}\\t\")\n",
    "    print(\"------------------------------\")"
   ]
  },
  {
   "cell_type": "code",
   "execution_count": 64,
   "id": "b1f8f812",
   "metadata": {},
   "outputs": [
    {
     "name": "stdout",
     "output_type": "stream",
     "text": [
      "Apple\t0-5\tORG\t\n",
      "U.K.\t27-31\tGPE\t\n",
      "$1 billion\t44-54\tMONEY\t\n",
      "{0: {'text': 'Apple', 'start_char': 0, 'end_char': 5, 'type': 'ORG'}, 1: {'text': 'U.K.', 'start_char': 27, 'end_char': 31, 'type': 'GPE'}, 2: {'text': '$1 billion', 'start_char': 44, 'end_char': 54, 'type': 'MONEY'}}\n"
     ]
    }
   ],
   "source": [
    "# Named Entity Recognition\n",
    "doc = nlp(\"Apple is looking at buying U.K. startup for $1 billion\")\n",
    "\n",
    "for ent in doc.ents:\n",
    "    print(f\"{ent.text}\\t{ent.start_char}-{ent.end_char}\\t{ent.label_}\\t\")\n",
    "# Create Named Entities\n",
    "data = {}\n",
    "i = 0\n",
    "for ent in doc.ents:\n",
    "    data[i] = {\n",
    "        \"text\": ent.text,\n",
    "        \"start_char\": ent.start_char,\n",
    "        \"end_char\": ent.end_char,\n",
    "        \"type\": ent.label_,\n",
    "    }\n",
    "    i = i + 1\n",
    "print(data)"
   ]
  },
  {
   "cell_type": "code",
   "execution_count": 48,
   "id": "bd73a629",
   "metadata": {},
   "outputs": [
    {
     "name": "stdout",
     "output_type": "stream",
     "text": [
      "sun True 8.730866 True\n",
      "moon True 8.087774 True\n",
      "cat True 7.08495 True\n",
      "dog True 7.1998067 True\n",
      "funny True 7.778815 True\n",
      "sad True 7.6599216 True\n",
      "zzzz True 8.588857 True\n"
     ]
    }
   ],
   "source": [
    "# Word vectors and similarity\n",
    "# Note: for better accuracy use a larger pipeline model(not ending with sm, e.g. \"en_core_web_sm\"), instead use \"en_core_web_trf\"\n",
    "tokens = nlp(\"sun moon cat dog funny sad zzzz\")\n",
    "\n",
    "for token in tokens:\n",
    "    print(token.text, token.has_vector, token.vector_norm, token.is_oov)"
   ]
  },
  {
   "cell_type": "code",
   "execution_count": null,
   "id": "f0215a64",
   "metadata": {},
   "outputs": [],
   "source": []
  },
  {
   "cell_type": "code",
   "execution_count": null,
   "id": "dd7da856",
   "metadata": {},
   "outputs": [],
   "source": []
  }
 ],
 "metadata": {
  "kernelspec": {
   "display_name": "Python 3 (ipykernel)",
   "language": "python",
   "name": "python3"
  },
  "language_info": {
   "codemirror_mode": {
    "name": "ipython",
    "version": 3
   },
   "file_extension": ".py",
   "mimetype": "text/x-python",
   "name": "python",
   "nbconvert_exporter": "python",
   "pygments_lexer": "ipython3",
   "version": "3.10.5"
  }
 },
 "nbformat": 4,
 "nbformat_minor": 5
}
